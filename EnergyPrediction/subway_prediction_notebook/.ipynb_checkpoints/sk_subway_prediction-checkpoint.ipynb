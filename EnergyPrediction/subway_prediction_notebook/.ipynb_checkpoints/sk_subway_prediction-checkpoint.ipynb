{
 "cells": [
  {
   "cell_type": "markdown",
   "metadata": {},
   "source": [
    "## 1. Prepare Data"
   ]
  },
  {
   "cell_type": "code",
   "execution_count": 1,
   "metadata": {},
   "outputs": [
    {
     "name": "stderr",
     "output_type": "stream",
     "text": [
      "/home/shankai/anaconda3/lib/python3.6/site-packages/ggplot/utils.py:81: FutureWarning: pandas.tslib is deprecated and will be removed in a future version.\n",
      "You can access Timestamp as pandas.Timestamp\n",
      "  pd.tslib.Timestamp,\n"
     ]
    }
   ],
   "source": [
    "from __future__ import division\n",
    "\n",
    "import datetime\n",
    "import itertools\n",
    "import operator\n",
    "\n",
    "import brewer2mpl\n",
    "import ggplot as gg\n",
    "import matplotlib.pyplot as plt\n",
    "import numpy as np\n",
    "import pandas as pd\n",
    "import pylab\n",
    "import scipy.stats\n",
    "import statsmodels.api as sm\n",
    "\n",
    "%matplotlib inline"
   ]
  },
  {
   "cell_type": "code",
   "execution_count": 2,
   "metadata": {},
   "outputs": [
    {
     "name": "stdout",
     "output_type": "stream",
     "text": [
      ",UNIT,DATEn,TIMEn,Hour,DESCn,ENTRIESn_hourly,EXITSn_hourly,maxpressurei,maxdewpti,mindewpti,minpressurei,meandewpti,meanpressurei,fog,rain,meanwindspdi,mintempi,meantempi,maxtempi,precipi,thunder\n",
      "0,R001,2011-05-01,01:00:00,1,REGULAR,0.0,0.0,30.31,42.0,35.0,30.23,39.0,30.27,0.0,0.0,5.0,50.0,60.0,69.0,0.0,0.0\n",
      "1,R001,2011-05-01,05:00:00,5,REGULAR,217.0,553.0,30.31,42.0,35.0,30.23,39.0,30.27,0.0,0.0,5.0,50.0,60.0,69.0,0.0,0.0\n"
     ]
    }
   ],
   "source": [
    "# 先看一眼数据\n",
    "\n",
    "with open(\"turnstile_data_master_with_weather.csv\") as f_in:\n",
    "    for i in range(3):\n",
    "        print (f_in.readline().strip())"
   ]
  },
  {
   "cell_type": "code",
   "execution_count": 3,
   "metadata": {},
   "outputs": [
    {
     "data": {
      "text/html": [
       "<div>\n",
       "<style scoped>\n",
       "    .dataframe tbody tr th:only-of-type {\n",
       "        vertical-align: middle;\n",
       "    }\n",
       "\n",
       "    .dataframe tbody tr th {\n",
       "        vertical-align: top;\n",
       "    }\n",
       "\n",
       "    .dataframe thead th {\n",
       "        text-align: right;\n",
       "    }\n",
       "</style>\n",
       "<table border=\"1\" class=\"dataframe\">\n",
       "  <thead>\n",
       "    <tr style=\"text-align: right;\">\n",
       "      <th></th>\n",
       "      <th>Unnamed: 0</th>\n",
       "      <th>UNIT</th>\n",
       "      <th>DATEn</th>\n",
       "      <th>TIMEn</th>\n",
       "      <th>Hour</th>\n",
       "      <th>DESCn</th>\n",
       "      <th>ENTRIESn_hourly</th>\n",
       "      <th>EXITSn_hourly</th>\n",
       "      <th>maxpressurei</th>\n",
       "      <th>maxdewpti</th>\n",
       "      <th>...</th>\n",
       "      <th>meandewpti</th>\n",
       "      <th>meanpressurei</th>\n",
       "      <th>fog</th>\n",
       "      <th>rain</th>\n",
       "      <th>meanwindspdi</th>\n",
       "      <th>mintempi</th>\n",
       "      <th>meantempi</th>\n",
       "      <th>maxtempi</th>\n",
       "      <th>precipi</th>\n",
       "      <th>thunder</th>\n",
       "    </tr>\n",
       "  </thead>\n",
       "  <tbody>\n",
       "    <tr>\n",
       "      <th>0</th>\n",
       "      <td>0</td>\n",
       "      <td>R001</td>\n",
       "      <td>2011-05-01</td>\n",
       "      <td>01:00:00</td>\n",
       "      <td>1</td>\n",
       "      <td>REGULAR</td>\n",
       "      <td>0.0</td>\n",
       "      <td>0.0</td>\n",
       "      <td>30.31</td>\n",
       "      <td>42.0</td>\n",
       "      <td>...</td>\n",
       "      <td>39.0</td>\n",
       "      <td>30.27</td>\n",
       "      <td>0.0</td>\n",
       "      <td>0.0</td>\n",
       "      <td>5.0</td>\n",
       "      <td>50.0</td>\n",
       "      <td>60.0</td>\n",
       "      <td>69.0</td>\n",
       "      <td>0.0</td>\n",
       "      <td>0.0</td>\n",
       "    </tr>\n",
       "    <tr>\n",
       "      <th>1</th>\n",
       "      <td>1</td>\n",
       "      <td>R001</td>\n",
       "      <td>2011-05-01</td>\n",
       "      <td>05:00:00</td>\n",
       "      <td>5</td>\n",
       "      <td>REGULAR</td>\n",
       "      <td>217.0</td>\n",
       "      <td>553.0</td>\n",
       "      <td>30.31</td>\n",
       "      <td>42.0</td>\n",
       "      <td>...</td>\n",
       "      <td>39.0</td>\n",
       "      <td>30.27</td>\n",
       "      <td>0.0</td>\n",
       "      <td>0.0</td>\n",
       "      <td>5.0</td>\n",
       "      <td>50.0</td>\n",
       "      <td>60.0</td>\n",
       "      <td>69.0</td>\n",
       "      <td>0.0</td>\n",
       "      <td>0.0</td>\n",
       "    </tr>\n",
       "    <tr>\n",
       "      <th>2</th>\n",
       "      <td>2</td>\n",
       "      <td>R001</td>\n",
       "      <td>2011-05-01</td>\n",
       "      <td>09:00:00</td>\n",
       "      <td>9</td>\n",
       "      <td>REGULAR</td>\n",
       "      <td>890.0</td>\n",
       "      <td>1262.0</td>\n",
       "      <td>30.31</td>\n",
       "      <td>42.0</td>\n",
       "      <td>...</td>\n",
       "      <td>39.0</td>\n",
       "      <td>30.27</td>\n",
       "      <td>0.0</td>\n",
       "      <td>0.0</td>\n",
       "      <td>5.0</td>\n",
       "      <td>50.0</td>\n",
       "      <td>60.0</td>\n",
       "      <td>69.0</td>\n",
       "      <td>0.0</td>\n",
       "      <td>0.0</td>\n",
       "    </tr>\n",
       "    <tr>\n",
       "      <th>3</th>\n",
       "      <td>3</td>\n",
       "      <td>R001</td>\n",
       "      <td>2011-05-01</td>\n",
       "      <td>13:00:00</td>\n",
       "      <td>13</td>\n",
       "      <td>REGULAR</td>\n",
       "      <td>2451.0</td>\n",
       "      <td>3708.0</td>\n",
       "      <td>30.31</td>\n",
       "      <td>42.0</td>\n",
       "      <td>...</td>\n",
       "      <td>39.0</td>\n",
       "      <td>30.27</td>\n",
       "      <td>0.0</td>\n",
       "      <td>0.0</td>\n",
       "      <td>5.0</td>\n",
       "      <td>50.0</td>\n",
       "      <td>60.0</td>\n",
       "      <td>69.0</td>\n",
       "      <td>0.0</td>\n",
       "      <td>0.0</td>\n",
       "    </tr>\n",
       "    <tr>\n",
       "      <th>4</th>\n",
       "      <td>4</td>\n",
       "      <td>R001</td>\n",
       "      <td>2011-05-01</td>\n",
       "      <td>17:00:00</td>\n",
       "      <td>17</td>\n",
       "      <td>REGULAR</td>\n",
       "      <td>4400.0</td>\n",
       "      <td>2501.0</td>\n",
       "      <td>30.31</td>\n",
       "      <td>42.0</td>\n",
       "      <td>...</td>\n",
       "      <td>39.0</td>\n",
       "      <td>30.27</td>\n",
       "      <td>0.0</td>\n",
       "      <td>0.0</td>\n",
       "      <td>5.0</td>\n",
       "      <td>50.0</td>\n",
       "      <td>60.0</td>\n",
       "      <td>69.0</td>\n",
       "      <td>0.0</td>\n",
       "      <td>0.0</td>\n",
       "    </tr>\n",
       "  </tbody>\n",
       "</table>\n",
       "<p>5 rows × 22 columns</p>\n",
       "</div>"
      ],
      "text/plain": [
       "   Unnamed: 0  UNIT       DATEn     TIMEn  Hour    DESCn  ENTRIESn_hourly  \\\n",
       "0           0  R001  2011-05-01  01:00:00     1  REGULAR              0.0   \n",
       "1           1  R001  2011-05-01  05:00:00     5  REGULAR            217.0   \n",
       "2           2  R001  2011-05-01  09:00:00     9  REGULAR            890.0   \n",
       "3           3  R001  2011-05-01  13:00:00    13  REGULAR           2451.0   \n",
       "4           4  R001  2011-05-01  17:00:00    17  REGULAR           4400.0   \n",
       "\n",
       "   EXITSn_hourly  maxpressurei  maxdewpti   ...     meandewpti  meanpressurei  \\\n",
       "0            0.0         30.31       42.0   ...           39.0          30.27   \n",
       "1          553.0         30.31       42.0   ...           39.0          30.27   \n",
       "2         1262.0         30.31       42.0   ...           39.0          30.27   \n",
       "3         3708.0         30.31       42.0   ...           39.0          30.27   \n",
       "4         2501.0         30.31       42.0   ...           39.0          30.27   \n",
       "\n",
       "   fog  rain  meanwindspdi  mintempi  meantempi  maxtempi  precipi  thunder  \n",
       "0  0.0   0.0           5.0      50.0       60.0      69.0      0.0      0.0  \n",
       "1  0.0   0.0           5.0      50.0       60.0      69.0      0.0      0.0  \n",
       "2  0.0   0.0           5.0      50.0       60.0      69.0      0.0      0.0  \n",
       "3  0.0   0.0           5.0      50.0       60.0      69.0      0.0      0.0  \n",
       "4  0.0   0.0           5.0      50.0       60.0      69.0      0.0      0.0  \n",
       "\n",
       "[5 rows x 22 columns]"
      ]
     },
     "execution_count": 3,
     "metadata": {},
     "output_type": "execute_result"
    }
   ],
   "source": [
    "# 使用pandas读取csv文件\n",
    "\n",
    "turnstile_data = pd.read_csv(\"turnstile_data_master_with_weather.csv\")\n",
    "turnstile_data.head()"
   ]
  },
  {
   "cell_type": "code",
   "execution_count": 4,
   "metadata": {},
   "outputs": [
    {
     "data": {
      "text/html": [
       "<div>\n",
       "<style scoped>\n",
       "    .dataframe tbody tr th:only-of-type {\n",
       "        vertical-align: middle;\n",
       "    }\n",
       "\n",
       "    .dataframe tbody tr th {\n",
       "        vertical-align: top;\n",
       "    }\n",
       "\n",
       "    .dataframe thead th {\n",
       "        text-align: right;\n",
       "    }\n",
       "</style>\n",
       "<table border=\"1\" class=\"dataframe\">\n",
       "  <thead>\n",
       "    <tr style=\"text-align: right;\">\n",
       "      <th></th>\n",
       "      <th>Unnamed: 0</th>\n",
       "      <th>UNIT</th>\n",
       "      <th>DATEn</th>\n",
       "      <th>TIMEn</th>\n",
       "      <th>Hour</th>\n",
       "      <th>DESCn</th>\n",
       "      <th>ENTRIESn_hourly</th>\n",
       "      <th>EXITSn_hourly</th>\n",
       "      <th>maxpressurei</th>\n",
       "      <th>maxdewpti</th>\n",
       "      <th>...</th>\n",
       "      <th>meanpressurei</th>\n",
       "      <th>fog</th>\n",
       "      <th>rain</th>\n",
       "      <th>meanwindspdi</th>\n",
       "      <th>mintempi</th>\n",
       "      <th>meantempi</th>\n",
       "      <th>maxtempi</th>\n",
       "      <th>precipi</th>\n",
       "      <th>thunder</th>\n",
       "      <th>DATETIMEn</th>\n",
       "    </tr>\n",
       "  </thead>\n",
       "  <tbody>\n",
       "    <tr>\n",
       "      <th>0</th>\n",
       "      <td>0</td>\n",
       "      <td>R001</td>\n",
       "      <td>2011-05-01</td>\n",
       "      <td>01:00:00</td>\n",
       "      <td>1</td>\n",
       "      <td>REGULAR</td>\n",
       "      <td>0.0</td>\n",
       "      <td>0.0</td>\n",
       "      <td>30.31</td>\n",
       "      <td>42.0</td>\n",
       "      <td>...</td>\n",
       "      <td>30.27</td>\n",
       "      <td>0.0</td>\n",
       "      <td>0.0</td>\n",
       "      <td>5.0</td>\n",
       "      <td>50.0</td>\n",
       "      <td>60.0</td>\n",
       "      <td>69.0</td>\n",
       "      <td>0.0</td>\n",
       "      <td>0.0</td>\n",
       "      <td>2011-05-01 01:00:00</td>\n",
       "    </tr>\n",
       "    <tr>\n",
       "      <th>1</th>\n",
       "      <td>1</td>\n",
       "      <td>R001</td>\n",
       "      <td>2011-05-01</td>\n",
       "      <td>05:00:00</td>\n",
       "      <td>5</td>\n",
       "      <td>REGULAR</td>\n",
       "      <td>217.0</td>\n",
       "      <td>553.0</td>\n",
       "      <td>30.31</td>\n",
       "      <td>42.0</td>\n",
       "      <td>...</td>\n",
       "      <td>30.27</td>\n",
       "      <td>0.0</td>\n",
       "      <td>0.0</td>\n",
       "      <td>5.0</td>\n",
       "      <td>50.0</td>\n",
       "      <td>60.0</td>\n",
       "      <td>69.0</td>\n",
       "      <td>0.0</td>\n",
       "      <td>0.0</td>\n",
       "      <td>2011-05-01 05:00:00</td>\n",
       "    </tr>\n",
       "    <tr>\n",
       "      <th>2</th>\n",
       "      <td>2</td>\n",
       "      <td>R001</td>\n",
       "      <td>2011-05-01</td>\n",
       "      <td>09:00:00</td>\n",
       "      <td>9</td>\n",
       "      <td>REGULAR</td>\n",
       "      <td>890.0</td>\n",
       "      <td>1262.0</td>\n",
       "      <td>30.31</td>\n",
       "      <td>42.0</td>\n",
       "      <td>...</td>\n",
       "      <td>30.27</td>\n",
       "      <td>0.0</td>\n",
       "      <td>0.0</td>\n",
       "      <td>5.0</td>\n",
       "      <td>50.0</td>\n",
       "      <td>60.0</td>\n",
       "      <td>69.0</td>\n",
       "      <td>0.0</td>\n",
       "      <td>0.0</td>\n",
       "      <td>2011-05-01 09:00:00</td>\n",
       "    </tr>\n",
       "    <tr>\n",
       "      <th>3</th>\n",
       "      <td>3</td>\n",
       "      <td>R001</td>\n",
       "      <td>2011-05-01</td>\n",
       "      <td>13:00:00</td>\n",
       "      <td>13</td>\n",
       "      <td>REGULAR</td>\n",
       "      <td>2451.0</td>\n",
       "      <td>3708.0</td>\n",
       "      <td>30.31</td>\n",
       "      <td>42.0</td>\n",
       "      <td>...</td>\n",
       "      <td>30.27</td>\n",
       "      <td>0.0</td>\n",
       "      <td>0.0</td>\n",
       "      <td>5.0</td>\n",
       "      <td>50.0</td>\n",
       "      <td>60.0</td>\n",
       "      <td>69.0</td>\n",
       "      <td>0.0</td>\n",
       "      <td>0.0</td>\n",
       "      <td>2011-05-01 13:00:00</td>\n",
       "    </tr>\n",
       "    <tr>\n",
       "      <th>4</th>\n",
       "      <td>4</td>\n",
       "      <td>R001</td>\n",
       "      <td>2011-05-01</td>\n",
       "      <td>17:00:00</td>\n",
       "      <td>17</td>\n",
       "      <td>REGULAR</td>\n",
       "      <td>4400.0</td>\n",
       "      <td>2501.0</td>\n",
       "      <td>30.31</td>\n",
       "      <td>42.0</td>\n",
       "      <td>...</td>\n",
       "      <td>30.27</td>\n",
       "      <td>0.0</td>\n",
       "      <td>0.0</td>\n",
       "      <td>5.0</td>\n",
       "      <td>50.0</td>\n",
       "      <td>60.0</td>\n",
       "      <td>69.0</td>\n",
       "      <td>0.0</td>\n",
       "      <td>0.0</td>\n",
       "      <td>2011-05-01 17:00:00</td>\n",
       "    </tr>\n",
       "  </tbody>\n",
       "</table>\n",
       "<p>5 rows × 23 columns</p>\n",
       "</div>"
      ],
      "text/plain": [
       "   Unnamed: 0  UNIT       DATEn     TIMEn  Hour    DESCn  ENTRIESn_hourly  \\\n",
       "0           0  R001  2011-05-01  01:00:00     1  REGULAR              0.0   \n",
       "1           1  R001  2011-05-01  05:00:00     5  REGULAR            217.0   \n",
       "2           2  R001  2011-05-01  09:00:00     9  REGULAR            890.0   \n",
       "3           3  R001  2011-05-01  13:00:00    13  REGULAR           2451.0   \n",
       "4           4  R001  2011-05-01  17:00:00    17  REGULAR           4400.0   \n",
       "\n",
       "   EXITSn_hourly  maxpressurei  maxdewpti         ...          meanpressurei  \\\n",
       "0            0.0         30.31       42.0         ...                  30.27   \n",
       "1          553.0         30.31       42.0         ...                  30.27   \n",
       "2         1262.0         30.31       42.0         ...                  30.27   \n",
       "3         3708.0         30.31       42.0         ...                  30.27   \n",
       "4         2501.0         30.31       42.0         ...                  30.27   \n",
       "\n",
       "   fog  rain  meanwindspdi  mintempi  meantempi  maxtempi  precipi  thunder  \\\n",
       "0  0.0   0.0           5.0      50.0       60.0      69.0      0.0      0.0   \n",
       "1  0.0   0.0           5.0      50.0       60.0      69.0      0.0      0.0   \n",
       "2  0.0   0.0           5.0      50.0       60.0      69.0      0.0      0.0   \n",
       "3  0.0   0.0           5.0      50.0       60.0      69.0      0.0      0.0   \n",
       "4  0.0   0.0           5.0      50.0       60.0      69.0      0.0      0.0   \n",
       "\n",
       "            DATETIMEn  \n",
       "0 2011-05-01 01:00:00  \n",
       "1 2011-05-01 05:00:00  \n",
       "2 2011-05-01 09:00:00  \n",
       "3 2011-05-01 13:00:00  \n",
       "4 2011-05-01 17:00:00  \n",
       "\n",
       "[5 rows x 23 columns]"
      ]
     },
     "execution_count": 4,
     "metadata": {},
     "output_type": "execute_result"
    }
   ],
   "source": [
    "# 将 DATEn TIMEn 两个时间戳属性合并成一个时间戳. \n",
    "turnstile_data[\"DATETIMEn\"] = pd.to_datetime(turnstile_data[\"DATEn\"] + \" \" + turnstile_data[\"TIMEn\"], format=\"%Y-%m-%d %H:%M:%S\")\n",
    "\n",
    "turnstile_data.head()"
   ]
  },
  {
   "cell_type": "markdown",
   "metadata": {},
   "source": [
    "## 2. Exploring Data"
   ]
  },
  {
   "cell_type": "code",
   "execution_count": 5,
   "metadata": {},
   "outputs": [
    {
     "data": {
      "image/png": "[encoded data removed]",
      "text/plain": [
       "<Figure size 864x504 with 1 Axes>"
      ]
     },
     "metadata": {},
     "output_type": "display_data"
    }
   ],
   "source": [
    "# 先看看数据长什么样子   先看看进出站的情况\n",
    "\n",
    "turnstile_dt = turnstile_data[[\"DATETIMEn\", \"ENTRIESn_hourly\", \"EXITSn_hourly\"]] \\\n",
    "               .set_index(\"DATETIMEn\") \\\n",
    "               .sort_index()\n",
    "\n",
    "fig, ax = pylab.subplots(figsize=(12, 7))\n",
    "set1 = brewer2mpl.get_map('Set1', 'qualitative', 3).mpl_colors\n",
    "turnstile_dt.plot(ax=ax, color=set1)\n",
    "ax.set_title(\"Entries/exits per hour across all stations\")\n",
    "ax.legend([\"Entries\", \"Exits\"])\n",
    "ax.set_ylabel(\"Entries/exits per hour\")\n",
    "ax.set_xlabel(\"Date\")\n",
    "pass"
   ]
  },
  {
   "cell_type": "markdown",
   "metadata": {},
   "source": [
    "从这张图表中我们可以看出：\n",
    "\n",
    "1. 有些日子比其他日子不那么繁忙，但是很难说哪些日子特别不那么繁忙，\n",
    "2. 入口和出口每天似乎都有几次峰值，但是很难判断这些峰值何时出现。\n",
    "\n",
    "是时候深入挖掘了一下。 首先，让我们看看星期几如何影响每小时的进入/退出次数："
   ]
  },
  {
   "cell_type": "code",
   "execution_count": 6,
   "metadata": {},
   "outputs": [
    {
     "data": {
      "text/html": [
       "<div>\n",
       "<style scoped>\n",
       "    .dataframe tbody tr th:only-of-type {\n",
       "        vertical-align: middle;\n",
       "    }\n",
       "\n",
       "    .dataframe tbody tr th {\n",
       "        vertical-align: top;\n",
       "    }\n",
       "\n",
       "    .dataframe thead th {\n",
       "        text-align: right;\n",
       "    }\n",
       "</style>\n",
       "<table border=\"1\" class=\"dataframe\">\n",
       "  <thead>\n",
       "    <tr style=\"text-align: right;\">\n",
       "      <th></th>\n",
       "      <th>ENTRIESn_hourly</th>\n",
       "      <th>EXITSn_hourly</th>\n",
       "    </tr>\n",
       "    <tr>\n",
       "      <th>day</th>\n",
       "      <th></th>\n",
       "      <th></th>\n",
       "    </tr>\n",
       "  </thead>\n",
       "  <tbody>\n",
       "    <tr>\n",
       "      <th>0</th>\n",
       "      <td>24130096.0</td>\n",
       "      <td>19328635.0</td>\n",
       "    </tr>\n",
       "    <tr>\n",
       "      <th>1</th>\n",
       "      <td>22997954.0</td>\n",
       "      <td>18412602.0</td>\n",
       "    </tr>\n",
       "    <tr>\n",
       "      <th>2</th>\n",
       "      <td>23562636.0</td>\n",
       "      <td>18893500.0</td>\n",
       "    </tr>\n",
       "    <tr>\n",
       "      <th>3</th>\n",
       "      <td>23486649.0</td>\n",
       "      <td>18792191.0</td>\n",
       "    </tr>\n",
       "    <tr>\n",
       "      <th>4</th>\n",
       "      <td>23130773.0</td>\n",
       "      <td>18568675.0</td>\n",
       "    </tr>\n",
       "    <tr>\n",
       "      <th>5</th>\n",
       "      <td>14044105.0</td>\n",
       "      <td>11809143.0</td>\n",
       "    </tr>\n",
       "    <tr>\n",
       "      <th>6</th>\n",
       "      <td>13180114.0</td>\n",
       "      <td>11221387.0</td>\n",
       "    </tr>\n",
       "  </tbody>\n",
       "</table>\n",
       "</div>"
      ],
      "text/plain": [
       "     ENTRIESn_hourly  EXITSn_hourly\n",
       "day                                \n",
       "0         24130096.0     19328635.0\n",
       "1         22997954.0     18412602.0\n",
       "2         23562636.0     18893500.0\n",
       "3         23486649.0     18792191.0\n",
       "4         23130773.0     18568675.0\n",
       "5         14044105.0     11809143.0\n",
       "6         13180114.0     11221387.0"
      ]
     },
     "execution_count": 6,
     "metadata": {},
     "output_type": "execute_result"
    }
   ],
   "source": [
    "turnstile_day = turnstile_dt\n",
    "turnstile_day[\"day\"] = turnstile_day.index.weekday\n",
    "turnstile_day = turnstile_day[[\"day\", \"ENTRIESn_hourly\", \"EXITSn_hourly\"]] \\\n",
    "            .groupby(\"day\") \\\n",
    "            .agg(sum)\n",
    "turnstile_day.head(10)"
   ]
  },
  {
   "cell_type": "code",
   "execution_count": 7,
   "metadata": {},
   "outputs": [
    {
     "data": {
      "image/png": "[encoded data removed]",
      "text/plain": [
       "<Figure size 864x504 with 1 Axes>"
      ]
     },
     "metadata": {},
     "output_type": "display_data"
    }
   ],
   "source": [
    "fig, ax = plt.subplots(figsize=(12, 7))\n",
    "set1 = brewer2mpl.get_map('Set1', 'qualitative', 3).mpl_colors\n",
    "turnstile_day.plot(ax=ax, kind=\"bar\", color=set1)\n",
    "ax.set_title(\"Total entries/exits per hour by day across all stations\")\n",
    "ax.legend([\"Exits\", \"Entries\"])\n",
    "ax.set_ylabel(\"Entries/exits per hour\")\n",
    "ax.set_xlabel(\"Day\")\n",
    "ax.set_xticklabels([\"Sunday\", \"Monday\", \"Tuesday\", \"Wednesday\", \"Thursday\", \"Friday\", \"Saturday\"],\n",
    "                   rotation=45)\n",
    "pass"
   ]
  },
  {
   "cell_type": "markdown",
   "metadata": {},
   "source": [
    "星期五和星期六是最忙碌的日子。\n",
    "\n",
    "其次，我们想要绘制按小时分组的每小时总小时数和退出数，以查看哪些小时比其他小时更繁忙。 \n",
    "然而，我们的数据不会那么简单，因为它每四小时（1AM，5AM，9AM，......）只采样一次。 \n",
    "我们需要重新采样我们的数据并猜测输入/输出的内容，例如： 2AM，3AM等将是，\n",
    "并且我们通过在已知值之间“绘制直线”来猜测这些值。"
   ]
  },
  {
   "cell_type": "code",
   "execution_count": 8,
   "metadata": {
    "scrolled": true
   },
   "outputs": [
    {
     "data": {
      "image/png": "[encoded data removed]",
      "text/plain": [
       "<Figure size 864x504 with 1 Axes>"
      ]
     },
     "metadata": {},
     "output_type": "display_data"
    }
   ],
   "source": [
    "turnstile_dt[\"hour\"] = turnstile_dt.index.hour\n",
    "turnstile_by_hour = turnstile_dt\n",
    "turnstile_by_hour = turnstile_by_hour[[\"hour\", \"ENTRIESn_hourly\", \"EXITSn_hourly\"]] \\\n",
    "            .groupby(\"hour\") \\\n",
    "            .sum()\n",
    "turnstile_by_hour.head()\n",
    "\n",
    "fig, ax = pylab.subplots(figsize=(12, 7))\n",
    "set1 = brewer2mpl.get_map('Set1', 'qualitative', 3).mpl_colors\n",
    "turnstile_by_hour.plot(ax=ax, color=set1)\n",
    "ax.set_title(\"Total entries/exits per hour by hour across all stations\")\n",
    "ax.legend([\"Entries\", \"Exits\"])\n",
    "ax.set_ylabel(\"Entries/exits per hour (1e6 is a million)\")\n",
    "ax.set_xlabel(\"Hour (0 is midnight, 12 is noon, 23 is 11pm)\")\n",
    "ax.set_xlim(0, 23)\n",
    "pass"
   ]
  },
  {
   "cell_type": "markdown",
   "metadata": {},
   "source": [
    "通过绘制按小时分组的每小时进入和退出的总数，我们可以看到白天确实存在多个尖峰。 \n",
    "因为我们不得不填写空白来绘制这张图表，尽管不值得在这张图表中阅读太多; \n",
    "更高精度的数据会使这个图表更有用。\n",
    "\n",
    "不是按小时和日期分割我们的数据，而是立即查看所有这些对降雨对使用地铁的人数有何影响？ \n",
    "我们的天气地下数据有一个“下雨”列，如果不下雨则为0，如果是，则在特定的每小时旋转测量期间为1："
   ]
  },
  {
   "cell_type": "code",
   "execution_count": 9,
   "metadata": {},
   "outputs": [
    {
     "name": "stderr",
     "output_type": "stream",
     "text": [
      "/home/shankai/anaconda3/lib/python3.6/site-packages/ipykernel_launcher.py:2: SettingWithCopyWarning: \n",
      "A value is trying to be set on a copy of a slice from a DataFrame.\n",
      "Try using .loc[row_indexer,col_indexer] = value instead\n",
      "\n",
      "See the caveats in the documentation: http://pandas.pydata.org/pandas-docs/stable/indexing.html#indexing-view-versus-copy\n",
      "  \n"
     ]
    },
    {
     "data": {
      "text/html": [
       "<div>\n",
       "<style scoped>\n",
       "    .dataframe tbody tr th:only-of-type {\n",
       "        vertical-align: middle;\n",
       "    }\n",
       "\n",
       "    .dataframe tbody tr th {\n",
       "        vertical-align: top;\n",
       "    }\n",
       "\n",
       "    .dataframe thead tr th {\n",
       "        text-align: left;\n",
       "    }\n",
       "\n",
       "    .dataframe thead tr:last-of-type th {\n",
       "        text-align: right;\n",
       "    }\n",
       "</style>\n",
       "<table border=\"1\" class=\"dataframe\">\n",
       "  <thead>\n",
       "    <tr>\n",
       "      <th></th>\n",
       "      <th colspan=\"8\" halign=\"left\">ENTRIESn_hourly</th>\n",
       "      <th colspan=\"5\" halign=\"left\">EXITSn_hourly</th>\n",
       "      <th colspan=\"8\" halign=\"left\">rain</th>\n",
       "    </tr>\n",
       "    <tr>\n",
       "      <th></th>\n",
       "      <th>count</th>\n",
       "      <th>mean</th>\n",
       "      <th>std</th>\n",
       "      <th>min</th>\n",
       "      <th>25%</th>\n",
       "      <th>50%</th>\n",
       "      <th>75%</th>\n",
       "      <th>max</th>\n",
       "      <th>count</th>\n",
       "      <th>mean</th>\n",
       "      <th>...</th>\n",
       "      <th>75%</th>\n",
       "      <th>max</th>\n",
       "      <th>count</th>\n",
       "      <th>mean</th>\n",
       "      <th>std</th>\n",
       "      <th>min</th>\n",
       "      <th>25%</th>\n",
       "      <th>50%</th>\n",
       "      <th>75%</th>\n",
       "      <th>max</th>\n",
       "    </tr>\n",
       "    <tr>\n",
       "      <th>rain2</th>\n",
       "      <th></th>\n",
       "      <th></th>\n",
       "      <th></th>\n",
       "      <th></th>\n",
       "      <th></th>\n",
       "      <th></th>\n",
       "      <th></th>\n",
       "      <th></th>\n",
       "      <th></th>\n",
       "      <th></th>\n",
       "      <th></th>\n",
       "      <th></th>\n",
       "      <th></th>\n",
       "      <th></th>\n",
       "      <th></th>\n",
       "      <th></th>\n",
       "      <th></th>\n",
       "      <th></th>\n",
       "      <th></th>\n",
       "      <th></th>\n",
       "      <th></th>\n",
       "    </tr>\n",
       "  </thead>\n",
       "  <tbody>\n",
       "    <tr>\n",
       "      <th>not raining</th>\n",
       "      <td>87847.0</td>\n",
       "      <td>1090.278780</td>\n",
       "      <td>2320.004938</td>\n",
       "      <td>0.0</td>\n",
       "      <td>38.0</td>\n",
       "      <td>278.0</td>\n",
       "      <td>1111.00</td>\n",
       "      <td>43199.0</td>\n",
       "      <td>87847.0</td>\n",
       "      <td>883.259610</td>\n",
       "      <td>...</td>\n",
       "      <td>846.0</td>\n",
       "      <td>45249.0</td>\n",
       "      <td>87847.0</td>\n",
       "      <td>0.0</td>\n",
       "      <td>0.0</td>\n",
       "      <td>0.0</td>\n",
       "      <td>0.0</td>\n",
       "      <td>0.0</td>\n",
       "      <td>0.0</td>\n",
       "      <td>0.0</td>\n",
       "    </tr>\n",
       "    <tr>\n",
       "      <th>raining</th>\n",
       "      <td>44104.0</td>\n",
       "      <td>1105.446377</td>\n",
       "      <td>2370.527674</td>\n",
       "      <td>0.0</td>\n",
       "      <td>41.0</td>\n",
       "      <td>282.0</td>\n",
       "      <td>1103.25</td>\n",
       "      <td>51839.0</td>\n",
       "      <td>44104.0</td>\n",
       "      <td>894.123572</td>\n",
       "      <td>...</td>\n",
       "      <td>849.0</td>\n",
       "      <td>41503.0</td>\n",
       "      <td>44104.0</td>\n",
       "      <td>1.0</td>\n",
       "      <td>0.0</td>\n",
       "      <td>1.0</td>\n",
       "      <td>1.0</td>\n",
       "      <td>1.0</td>\n",
       "      <td>1.0</td>\n",
       "      <td>1.0</td>\n",
       "    </tr>\n",
       "  </tbody>\n",
       "</table>\n",
       "<p>2 rows × 24 columns</p>\n",
       "</div>"
      ],
      "text/plain": [
       "            ENTRIESn_hourly                                              \\\n",
       "                      count         mean          std  min   25%    50%   \n",
       "rain2                                                                     \n",
       "not raining         87847.0  1090.278780  2320.004938  0.0  38.0  278.0   \n",
       "raining             44104.0  1105.446377  2370.527674  0.0  41.0  282.0   \n",
       "\n",
       "                              EXITSn_hourly             ...                   \\\n",
       "                 75%      max         count        mean ...     75%      max   \n",
       "rain2                                                   ...                    \n",
       "not raining  1111.00  43199.0       87847.0  883.259610 ...   846.0  45249.0   \n",
       "raining      1103.25  51839.0       44104.0  894.123572 ...   849.0  41503.0   \n",
       "\n",
       "                rain                                     \n",
       "               count mean  std  min  25%  50%  75%  max  \n",
       "rain2                                                    \n",
       "not raining  87847.0  0.0  0.0  0.0  0.0  0.0  0.0  0.0  \n",
       "raining      44104.0  1.0  0.0  1.0  1.0  1.0  1.0  1.0  \n",
       "\n",
       "[2 rows x 24 columns]"
      ]
     },
     "execution_count": 9,
     "metadata": {},
     "output_type": "execute_result"
    }
   ],
   "source": [
    "turnstile_rain = turnstile_data[[\"rain\", \"ENTRIESn_hourly\", \"EXITSn_hourly\"]]\n",
    "turnstile_rain[\"rain2\"] = np.where(turnstile_rain[\"rain\"] == 1, \"raining\", \"not raining\")\n",
    "# print(turnstile_rain.head())\n",
    "turnstile_rain.groupby(\"rain2\").describe()"
   ]
  },
  {
   "cell_type": "markdown",
   "metadata": {},
   "source": [
    "在下雨时，每小时进入和退出的中位数和平均数比在没有下雨时高。 \n",
    "然而，数值差异非常小，如下图所示，当我们绘制数据的核密度估计值（KDE）时。 \n",
    "KDE可以被认为是“平滑直方图”，但更正式地是对我们数据的概率分布函数（PDF）的估计，即“此时这个值的[0,1]的概率是多少？发生的？”。"
   ]
  },
  {
   "cell_type": "code",
   "execution_count": 10,
   "metadata": {},
   "outputs": [
    {
     "name": "stderr",
     "output_type": "stream",
     "text": [
      "/home/shankai/anaconda3/lib/python3.6/site-packages/ipykernel_launcher.py:2: SettingWithCopyWarning: \n",
      "A value is trying to be set on a copy of a slice from a DataFrame.\n",
      "Try using .loc[row_indexer,col_indexer] = value instead\n",
      "\n",
      "See the caveats in the documentation: http://pandas.pydata.org/pandas-docs/stable/indexing.html#indexing-view-versus-copy\n",
      "  \n",
      "/home/shankai/anaconda3/lib/python3.6/site-packages/ipykernel_launcher.py:3: SettingWithCopyWarning: \n",
      "A value is trying to be set on a copy of a slice from a DataFrame.\n",
      "Try using .loc[row_indexer,col_indexer] = value instead\n",
      "\n",
      "See the caveats in the documentation: http://pandas.pydata.org/pandas-docs/stable/indexing.html#indexing-view-versus-copy\n",
      "  This is separate from the ipykernel package so we can avoid doing imports until\n"
     ]
    },
    {
     "data": {
      "image/png": "[encoded data removed]",
      "text/plain": [
       "<Figure size 792x576 with 1 Axes>"
      ]
     },
     "metadata": {},
     "output_type": "display_data"
    },
    {
     "data": {
      "text/plain": [
       "<ggplot: (-9223363255181240092)>"
      ]
     },
     "execution_count": 10,
     "metadata": {},
     "output_type": "execute_result"
    }
   ],
   "source": [
    "turnstile_rain = turnstile_data[[\"rain\", \"ENTRIESn_hourly\", \"EXITSn_hourly\"]]\n",
    "turnstile_rain[\"ENTRIESn_hourly_log10\"] = np.log10(turnstile_rain[\"ENTRIESn_hourly\"] + 1)\n",
    "turnstile_rain[\"rain2\"] = np.where(turnstile_rain[\"rain\"] == 1, \"raining\", \"not raining\")\n",
    "set1 = brewer2mpl.get_map('Set1', 'qualitative', 3).mpl_colors\n",
    "plot = gg.ggplot(turnstile_rain, gg.aes(x=\"ENTRIESn_hourly_log10\", color=\"rain2\")) + gg.geom_density()  + gg.xlab(\"log10(entries per hour)\") + gg.ylab(\"Number of turnstiles\") + gg.ggtitle(\"Entries per hour whilst raining and not raining\")\n",
    "plot"
   ]
  },
  {
   "cell_type": "markdown",
   "metadata": {},
   "source": [
    "注意我们在x轴上绘制的内容。这次我们没有自己绘制每小时的条目数，而是将“log10”（日志基数10）应用于它。这意味着0 = 1,1 = 10,2 = 100,3 = 1000,4 = 1000和5 = 10000.以这种方式绘制它可以更容易地在同一图表中拟合具有极值的数据。\n",
    "\n",
    "log10派上用场，因为白天有很多十字转门闲置！将函数应用于我们的数据然后绘制图表使我们仍然可以使用图表来显示奇怪的数据。这是一种非常常见的技术，例如电气工程，您经常同时处理非常小和非常大的数字。\n",
    "\n",
    "虽然我们上面的数字估计表明在下雨时每小时有更多人出行，但在查看这些图表时，这个结论并不清楚。然而，绘制KDE给我们提供了另一个有趣的视角：在MTA上旅行的人数的“模式”不会根据下雨而改变。 MTA或人们使用它的方式并不像下雨时神奇地改变。"
   ]
  },
  {
   "cell_type": "markdown",
   "metadata": {},
   "source": [
    "### 分析数据"
   ]
  },
  {
   "cell_type": "code",
   "execution_count": 14,
   "metadata": {},
   "outputs": [
    {
     "data": {
      "image/png": "[encoded data removed]",
      "text/plain": [
       "<Figure size 432x288 with 1 Axes>"
      ]
     },
     "metadata": {},
     "output_type": "display_data"
    }
   ],
   "source": [
    "p = turnstile_data[\"ENTRIESn_hourly\"].hist()\n",
    "pylab.suptitle(\"Entries per hour across all stations\")\n",
    "pylab.xlabel(\"Entries per hour\")\n",
    "pylab.ylabel(\"Number of occurrences\")\n",
    "pass"
   ]
  },
  {
   "cell_type": "markdown",
   "metadata": {},
   "source": [
    "这好像不是一个正态分布，我们再接着看下"
   ]
  },
  {
   "cell_type": "code",
   "execution_count": 17,
   "metadata": {},
   "outputs": [
    {
     "name": "stdout",
     "output_type": "stream",
     "text": [
      "0.0\n"
     ]
    }
   ],
   "source": [
    "(k2, pvalue) = scipy.stats.normaltest(turnstile_data[\"ENTRIESn_hourly\"])\n",
    "print (pvalue)"
   ]
  },
  {
   "cell_type": "markdown",
   "metadata": {},
   "source": [
    "在这里，我们避免使用Shapiro-Wilk测试（scipy.stats.shapiro），因为它不适用于超过5000个值的数据集。 此外，该测试返回了接近0的p值，这意味着数据很可能不是正态分布的。 这意味着我们不能使用t检验！\n",
    "\n",
    "坏消息！ 幸运的是，另一个测试，Mann-Whitney U测试，并不认为数据是正态分布的，让我们回答相同的问题。 让它旋转一下吧！"
   ]
  },
  {
   "cell_type": "code",
   "execution_count": 18,
   "metadata": {},
   "outputs": [
    {
     "name": "stdout",
     "output_type": "stream",
     "text": [
      "median entries per hour when not raining: 278.0\n",
      "median entries per hour when raining: 282.0\n",
      "p-value of test statistic: 0.0499\n"
     ]
    }
   ],
   "source": [
    "not_raining = turnstile_data[turnstile_data[\"rain\"] == 0]\n",
    "raining = turnstile_data[turnstile_data[\"rain\"] == 1]\n",
    "(u, pvalue) = scipy.stats.mannwhitneyu(not_raining[\"ENTRIESn_hourly\"],\n",
    "                                       raining[\"ENTRIESn_hourly\"])\n",
    "\n",
    "print (\"median entries per hour when not raining: %s\" % not_raining[\"ENTRIESn_hourly\"].median())\n",
    "print (\"median entries per hour when raining: %s\" % raining[\"ENTRIESn_hourly\"].median())\n",
    "print (\"p-value of test statistic: %.4f\" % (pvalue * 2, ))"
   ]
  },
  {
   "cell_type": "markdown",
   "metadata": {},
   "source": [
    "由于scipy.stats.mannwhiteneyu返回单侧p值，并且在收集任何数据之前我们没有预测哪个组具有更高的平均值，我们必须将它乘以2以得到双侧p值[1 ] [2]。 使用这个允许我们说，在5％的确定度下，每小时的平均入场次数有所不同，具体取决于是否下雨[3]。"
   ]
  },
  {
   "cell_type": "markdown",
   "metadata": {},
   "source": [
    "## 3. 建模"
   ]
  },
  {
   "cell_type": "markdown",
   "metadata": {},
   "source": [
    "我们的目的是预测在任何特定时间有多少人在纽约使用地铁\n",
    "\n",
    "- the amount of rain falling ('precipi'),\n",
    "- the hour of the day (0 to 23 inclusive) ('Hour')\n",
    "- the mean temperature in Fahrenheit as an integer ('meantempi')\n",
    "- which particular metro station we're trying to predict ridership for ('UNIT').\n",
    "\n",
    "UNIT是一个标称型的特征，因此我们需要对其进行one_hot编码"
   ]
  },
  {
   "cell_type": "markdown",
   "metadata": {},
   "source": [
    "### 3.1 线性回归\n",
    "\n",
    "In linear regression we have:\n",
    "\n",
    "- A set of inputs called **features**, X. In here we put all our input variables and a column of 1's, to allow a constant value to be used.\n",
    "- A set of outputs called **values**, y. Here we'll be predicting ENTRIESn_hourly.\n",
    "- Values **theta** we get to choose to map one row of features onto a single value.\n",
    "\n",
    "Formally we say that:\n",
    "\n",
    "$\n",
    "\\begin{aligned}\n",
    "y &= \\theta_0 x_0 + \\theta_1 x_1 + \\theta_2 x_2 + \\ldots + \\theta_n x_n \\\\\n",
    "&= \\vec{\\theta}^{T} \\vec{x}\n",
    "\\end{aligned}\n",
    "$\n",
    "\n",
    "In our case:\n",
    "\n",
    "$\n",
    "\\vec{x}_i =\n",
    "\\begin{bmatrix}\n",
    "1 \\\\ \\textrm{precipi}_i \\\\ \\textrm{Hour}_i \\\\ \\textrm{meantempi}_i \\\\\n",
    "\\textrm{UNIT}_{1i} \\\\\n",
    "\\textrm{UNIT}_{2i} \\\\\n",
    "\\ldots \\\\\n",
    "\\textrm{UNIT}_{ni} \\\\\n",
    "\\end{bmatrix}\n",
    "$\n",
    "\n",
    "So to be clear what we're trying to figure out is some values for $\\vec{\\theta}$ that'll let us make a model such that:\n",
    "\n",
    "$\n",
    "\\begin{aligned}\n",
    "\\textrm{ENTRIESn_HOURLY} &= \\theta_0 \\\\ &+ \\theta_1 \\times \\textrm{precipi} \\\\ &+ \\theta_2 \\times \\textrm{Hour} \\\\ &+ \\theta_3 \\times \\textrm{meantempi} \\\\ &+ \\theta_4 \\times \\textrm{UNIT}_1 \\\\ &+ \\theta_5 \\times \\textrm{UNIT}_2 \\\\ &+ \\\\ \\ldots\n",
    "\\end{aligned}\n",
    "$\n",
    "\n",
    "In order to do this we want to find some values for $\\vec{\\theta}$ that minimize the **cost function** for linear regression:\n",
    "\n",
    "$\n",
    "\\begin{aligned}\n",
    "J(\\theta) &= \\frac{1}{2m} \\displaystyle \\sum_{i=1}^{m} \\left( \\textrm{predictions} - \\textrm{actuals} \\right) ^ 2 \\\\\n",
    "&= \\frac{1}{2m} \\displaystyle \\sum_{i=1}^{m} \\left( \\theta^T x - y \\right) ^ 2\n",
    "\\end{aligned}\n",
    "$"
   ]
  },
  {
   "cell_type": "code",
   "execution_count": 20,
   "metadata": {},
   "outputs": [],
   "source": [
    "def compute_cost(features, values, theta):\n",
    "    m = len(values)\n",
    "    predictions = features.dot(theta)\n",
    "    return (1 / (2 * m)) * np.square(predictions - values).sum()"
   ]
  },
  {
   "cell_type": "markdown",
   "metadata": {},
   "source": [
    "In order to minimize the cost we start off at $\\vec{\\theta} = \\vec{0}$ and then run a **gradient descent** step many times. Each time we run the following step we get closer and closer to the values of $\\vec{\\theta}$ the minimize the cost function:\n",
    "\n",
    "$\n",
    "\\theta_j = \\theta_j - \\frac{\\alpha}{m} \\displaystyle \\sum_{i=1}^{m} \\left( \\theta^T x - y \\right ) x\n",
    "$\n",
    "\n",
    "Where $\\alpha$ is the **learning rate**. Setting this value too small will cause us to converge very slowly but we'll always get the right answer eventually, whereas setting it too large goes faster but may cause us to *diverge* and never get the right answer!"
   ]
  },
  {
   "cell_type": "code",
   "execution_count": 26,
   "metadata": {},
   "outputs": [],
   "source": [
    "def gradient_descent(features, values, theta, alpha, num_iterations):\n",
    "    m = len(values)\n",
    "    cost_history = []\n",
    "    for i in range(num_iterations):\n",
    "        loss = features.dot(theta) - values\n",
    "        delta = (alpha/m) * loss.dot(features)\n",
    "        theta -= delta\n",
    "        cost_history.append(compute_cost(features, values, theta))\n",
    "    return theta, pd.Series(cost_history)"
   ]
  },
  {
   "cell_type": "code",
   "execution_count": 27,
   "metadata": {},
   "outputs": [],
   "source": [
    "#   归一化\n",
    "#  这里使用的是标准化\n",
    "def normalize_features(array):\n",
    "    mu = array.mean()\n",
    "    sigma = array.std()\n",
    "    normalized = (array - mu) / sigma\n",
    "    return (normalized, mu, sigma)"
   ]
  },
  {
   "cell_type": "code",
   "execution_count": 28,
   "metadata": {},
   "outputs": [],
   "source": [
    "def predictions(features, values, alpha, num_iterations):\n",
    "    m = len(values)\n",
    "    theta = np.zeros(features.shape[1])\n",
    "    theta, cost_history = gradient_descent(features, values, theta, alpha, num_iterations)\n",
    "    predictions = features.dot(theta)\n",
    "    # Predictions less than 0 make no sense, so just set them to 0\n",
    "    predictions[predictions<0] = 0\n",
    "    return pd.Series(predictions)"
   ]
  },
  {
   "cell_type": "code",
   "execution_count": 29,
   "metadata": {},
   "outputs": [
    {
     "data": {
      "text/html": [
       "<div>\n",
       "<style scoped>\n",
       "    .dataframe tbody tr th:only-of-type {\n",
       "        vertical-align: middle;\n",
       "    }\n",
       "\n",
       "    .dataframe tbody tr th {\n",
       "        vertical-align: top;\n",
       "    }\n",
       "\n",
       "    .dataframe thead th {\n",
       "        text-align: right;\n",
       "    }\n",
       "</style>\n",
       "<table border=\"1\" class=\"dataframe\">\n",
       "  <thead>\n",
       "    <tr style=\"text-align: right;\">\n",
       "      <th></th>\n",
       "      <th>UNIT</th>\n",
       "      <th>DATETIMEn</th>\n",
       "      <th>ENTRIESn_hourly</th>\n",
       "      <th>predictions</th>\n",
       "    </tr>\n",
       "  </thead>\n",
       "  <tbody>\n",
       "    <tr>\n",
       "      <th>0</th>\n",
       "      <td>R001</td>\n",
       "      <td>2011-05-01 01:00:00</td>\n",
       "      <td>0.0</td>\n",
       "      <td>3380.274237</td>\n",
       "    </tr>\n",
       "    <tr>\n",
       "      <th>1</th>\n",
       "      <td>R001</td>\n",
       "      <td>2011-05-01 05:00:00</td>\n",
       "      <td>217.0</td>\n",
       "      <td>3649.860482</td>\n",
       "    </tr>\n",
       "    <tr>\n",
       "      <th>2</th>\n",
       "      <td>R001</td>\n",
       "      <td>2011-05-01 09:00:00</td>\n",
       "      <td>890.0</td>\n",
       "      <td>3919.446727</td>\n",
       "    </tr>\n",
       "    <tr>\n",
       "      <th>3</th>\n",
       "      <td>R001</td>\n",
       "      <td>2011-05-01 13:00:00</td>\n",
       "      <td>2451.0</td>\n",
       "      <td>4189.032972</td>\n",
       "    </tr>\n",
       "    <tr>\n",
       "      <th>4</th>\n",
       "      <td>R001</td>\n",
       "      <td>2011-05-01 17:00:00</td>\n",
       "      <td>4400.0</td>\n",
       "      <td>4458.619218</td>\n",
       "    </tr>\n",
       "    <tr>\n",
       "      <th>5</th>\n",
       "      <td>R001</td>\n",
       "      <td>2011-05-01 21:00:00</td>\n",
       "      <td>3372.0</td>\n",
       "      <td>4728.205463</td>\n",
       "    </tr>\n",
       "    <tr>\n",
       "      <th>6</th>\n",
       "      <td>R002</td>\n",
       "      <td>2011-05-01 01:00:00</td>\n",
       "      <td>0.0</td>\n",
       "      <td>317.142200</td>\n",
       "    </tr>\n",
       "    <tr>\n",
       "      <th>7</th>\n",
       "      <td>R002</td>\n",
       "      <td>2011-05-01 05:00:00</td>\n",
       "      <td>42.0</td>\n",
       "      <td>586.728446</td>\n",
       "    </tr>\n",
       "    <tr>\n",
       "      <th>8</th>\n",
       "      <td>R002</td>\n",
       "      <td>2011-05-01 09:00:00</td>\n",
       "      <td>50.0</td>\n",
       "      <td>856.314691</td>\n",
       "    </tr>\n",
       "    <tr>\n",
       "      <th>9</th>\n",
       "      <td>R002</td>\n",
       "      <td>2011-05-01 13:00:00</td>\n",
       "      <td>316.0</td>\n",
       "      <td>1125.900936</td>\n",
       "    </tr>\n",
       "  </tbody>\n",
       "</table>\n",
       "</div>"
      ],
      "text/plain": [
       "   UNIT           DATETIMEn  ENTRIESn_hourly  predictions\n",
       "0  R001 2011-05-01 01:00:00              0.0  3380.274237\n",
       "1  R001 2011-05-01 05:00:00            217.0  3649.860482\n",
       "2  R001 2011-05-01 09:00:00            890.0  3919.446727\n",
       "3  R001 2011-05-01 13:00:00           2451.0  4189.032972\n",
       "4  R001 2011-05-01 17:00:00           4400.0  4458.619218\n",
       "5  R001 2011-05-01 21:00:00           3372.0  4728.205463\n",
       "6  R002 2011-05-01 01:00:00              0.0   317.142200\n",
       "7  R002 2011-05-01 05:00:00             42.0   586.728446\n",
       "8  R002 2011-05-01 09:00:00             50.0   856.314691\n",
       "9  R002 2011-05-01 13:00:00            316.0  1125.900936"
      ]
     },
     "execution_count": 29,
     "metadata": {},
     "output_type": "execute_result"
    }
   ],
   "source": [
    "dummy_units = pd.get_dummies(turnstile_data['UNIT'], prefix='unit')\n",
    "features = turnstile_data[['rain', 'precipi', 'Hour', 'meantempi']].join(dummy_units)\n",
    "features, mu, sigma = normalize_features(features)\n",
    "features = np.array(features)\n",
    "features = np.insert(features, 0, 1, axis=1)\n",
    "values = np.array(turnstile_data[['ENTRIESn_hourly']]).flatten()\n",
    "pred = predictions(features=np.array(features),\n",
    "                   values=values,\n",
    "                   alpha=0.1,\n",
    "                   num_iterations=150)\n",
    "turnstile_data[[\"UNIT\", \"DATETIMEn\", \"ENTRIESn_hourly\"]].join(pd.Series(pred, name=\"predictions\")).head(n=10)"
   ]
  },
  {
   "cell_type": "markdown",
   "metadata": {},
   "source": [
    "We have some predictions, but how are we going to evaluate how good these predictions are? One simple method is to compute the **coefficient of determination**, which measure how much variability in the data your model is able to capture. It varies from 0 to 1 and bigger values are better:\n",
    "\n",
    "$\n",
    "\\begin{aligned}\n",
    "R^2 &= 1 - \\frac{\\sigma_\\textrm{errors}^2}{\\sigma_\\textrm{data}^2} \\\\\n",
    "&= 1 - \\frac{ \\displaystyle \\sum_{i=1}^{m} \\left( y_i - f_i \\right)^2 }{ \\displaystyle \\sum_{i=1}^{m} \\left( y_i - \\bar{y}_i \\right)^2 }\n",
    "\\end{aligned}\n",
    "$"
   ]
  },
  {
   "cell_type": "code",
   "execution_count": 31,
   "metadata": {},
   "outputs": [],
   "source": [
    "def compute_r_squared(data, predictions):\n",
    "    numerator = np.square(data - predictions).sum()\n",
    "    denomenator = np.square(data - data.mean()).sum()\n",
    "    return 1 - numerator / denomenator"
   ]
  },
  {
   "cell_type": "code",
   "execution_count": 32,
   "metadata": {},
   "outputs": [
    {
     "data": {
      "text/plain": [
       "'0.465'"
      ]
     },
     "execution_count": 32,
     "metadata": {},
     "output_type": "execute_result"
    }
   ],
   "source": [
    "\"%.3f\" % compute_r_squared(turnstile_data[\"ENTRIESn_hourly\"], pred)"
   ]
  },
  {
   "cell_type": "code",
   "execution_count": 33,
   "metadata": {},
   "outputs": [
    {
     "data": {
      "text/plain": [
       "<module 'matplotlib.pyplot' from '/home/shankai/anaconda3/lib/python3.6/site-packages/matplotlib/pyplot.py'>"
      ]
     },
     "execution_count": 33,
     "metadata": {},
     "output_type": "execute_result"
    },
    {
     "data": {
      "image/png": "[encoded data removed]",
      "text/plain": [
       "<Figure size 432x288 with 1 Axes>"
      ]
     },
     "metadata": {},
     "output_type": "display_data"
    }
   ],
   "source": [
    "## 绘制残差\n",
    "def plot_residuals(df, predictions):\n",
    "    \"\"\"Reference: http://www.itl.nist.gov/div898/handbook/pri/section2/pri24.htm\n",
    "    \"\"\"\n",
    "    plt.figure()\n",
    "    (df[\"ENTRIESn_hourly\"] - predictions).hist(bins=50)\n",
    "    pylab.title(\"Residual plot\")\n",
    "    pylab.xlabel(\"Residuals\")\n",
    "    pylab.ylabel(\"Frequency\")\n",
    "    return plt\n",
    "\n",
    "plot_residuals(turnstile_data, pred)"
   ]
  },
  {
   "cell_type": "code",
   "execution_count": 35,
   "metadata": {},
   "outputs": [
    {
     "name": "stdout",
     "output_type": "stream",
     "text": [
      "p-value of normaltest on residuals: 0.0\n",
      "mean of residuals: -64.06875327870382\n"
     ]
    }
   ],
   "source": [
    "residuals = turnstile_data[\"ENTRIESn_hourly\"] - pred\n",
    "(zscore, pvalue) = scipy.stats.normaltest(residuals)\n",
    "print (\"p-value of normaltest on residuals: %s\" % pvalue)\n",
    "print (\"mean of residuals: %s\" % residuals.mean())"
   ]
  },
  {
   "cell_type": "markdown",
   "metadata": {},
   "source": [
    "## 4. Going Further"
   ]
  },
  {
   "cell_type": "code",
   "execution_count": 36,
   "metadata": {},
   "outputs": [
    {
     "name": "stdout",
     "output_type": "stream",
     "text": [
      "original R^2: 0.465\n",
      "more existing features R^2: 0.467\n"
     ]
    }
   ],
   "source": [
    "dummy_units = pd.get_dummies(turnstile_data['UNIT'], prefix='unit')\n",
    "features = turnstile_data[['rain', 'precipi', 'Hour', 'meantempi', 'mintempi', 'maxtempi',\n",
    "                           'mindewpti', 'meandewpti', 'maxdewpti', 'minpressurei',\n",
    "                           'meanpressurei', 'maxpressurei', 'meanwindspdi']].join(dummy_units)\n",
    "features, mu, sigma = normalize_features(features)\n",
    "features = np.array(features)\n",
    "features = np.insert(features, 0, 1, axis=1)\n",
    "values = np.array(turnstile_data[['ENTRIESn_hourly']]).flatten()\n",
    "pred2 = predictions(features=np.array(features),\n",
    "                    values=values,\n",
    "                    alpha=0.1,\n",
    "                    num_iterations=150)\n",
    "print(\"original R^2: %.3f\" % compute_r_squared(turnstile_data[\"ENTRIESn_hourly\"], pred))\n",
    "print(\"more existing features R^2: %.3f\" %\n",
    "      compute_r_squared(turnstile_data[\"ENTRIESn_hourly\"], pred2))"
   ]
  },
  {
   "cell_type": "markdown",
   "metadata": {},
   "source": [
    "或者，我们可以使用特征的多项式组合来为我们的线性回归模型提供更好的拟合数据的机会。 这种方法的一个缺点是使用的特征数量急剧增加，并且训练和使用我们的模型需要更长的时间。"
   ]
  },
  {
   "cell_type": "code",
   "execution_count": 38,
   "metadata": {},
   "outputs": [
    {
     "name": "stderr",
     "output_type": "stream",
     "text": [
      "/home/shankai/anaconda3/lib/python3.6/site-packages/ipykernel_launcher.py:6: SettingWithCopyWarning: \n",
      "A value is trying to be set on a copy of a slice from a DataFrame.\n",
      "Try using .loc[row_indexer,col_indexer] = value instead\n",
      "\n",
      "See the caveats in the documentation: http://pandas.pydata.org/pandas-docs/stable/indexing.html#indexing-view-versus-copy\n",
      "  \n"
     ]
    },
    {
     "name": "stdout",
     "output_type": "stream",
     "text": [
      "original R^2: 0.465\n",
      "more existing features R^2: 0.467\n",
      "more existing features with polynomial combinations R^2: 0.472\n"
     ]
    }
   ],
   "source": [
    "def add_polynomial_features(df, degree, add_sqrt):\n",
    "    for i in range(2, degree + 1):\n",
    "        for combination in itertools.combinations_with_replacement(df.columns, i):\n",
    "            name = \" \".join(combination)\n",
    "            value = np.prod(df[list(combination)], axis=1)\n",
    "            df[name] = value\n",
    "    if add_sqrt:\n",
    "        for column in df.columns:\n",
    "            df[\"%s_sqrt\" % column] = np.sqrt(df[column])\n",
    "\n",
    "dummy_units = pd.get_dummies(turnstile_data['UNIT'], prefix='unit')\n",
    "features = turnstile_data[['rain', 'precipi', 'Hour', 'meantempi', 'mintempi', 'maxtempi',\n",
    "                           'mindewpti', 'meandewpti', 'maxdewpti', 'minpressurei',\n",
    "                           'meanpressurei', 'maxpressurei', 'meanwindspdi']]\n",
    "add_polynomial_features(features, 2, add_sqrt=True)\n",
    "features = features.join(dummy_units)\n",
    "features, mu, sigma = normalize_features(features)\n",
    "features = np.array(features)\n",
    "features = np.insert(features, 0, 1, axis=1)\n",
    "values = np.array(turnstile_data[['ENTRIESn_hourly']]).flatten()\n",
    "pred3 = predictions(features=np.array(features),\n",
    "                    values=values,\n",
    "                    alpha=0.025,\n",
    "                    num_iterations=150)\n",
    "print(\"original R^2: %.3f\" % compute_r_squared(turnstile_data[\"ENTRIESn_hourly\"], pred))\n",
    "print(\"more existing features R^2: %.3f\" %\n",
    "      compute_r_squared(turnstile_data[\"ENTRIESn_hourly\"], pred2))\n",
    "print(\"more existing features with polynomial combinations R^2: %.3f\" %\n",
    "      compute_r_squared(turnstile_data[\"ENTRIESn_hourly\"], pred3))"
   ]
  },
  {
   "cell_type": "markdown",
   "metadata": {},
   "source": [
    "### 偏差方差"
   ]
  },
  {
   "cell_type": "markdown",
   "metadata": {},
   "source": [
    "In order to determine whether our model is experiencing high bias or high variance we plot **learning curves**:\n",
    "\n",
    "- Rather than training our model on all available data we split the data set into three pieces: a **training set**, a **cross-validation** set, and a **testing** set.\n",
    "- A good default split of around 60% training, 20% cross-validation, and 20% testing. In our case since we're just drawing learning curves and not evaluating our model's generalizability let's set it to 60% training and 40% cross validation.\n",
    "- Plot $J_\\textrm{CV}(\\theta)$ and $J_\\textrm{train}(\\theta)$ with respect to the number of training samples. Whilst feeding in an ever increasing amount of training samples, re-train for new values of $\\theta$ and plot the cost function on the training set ($J_\\textrm{train}(\\theta)$) and the cross-validation set ($J_\\textrm{CV}(\\theta)$).\n",
    "- If $J_\\textrm{CV}(\\theta) \\approx J_\\textrm{train}(\\theta)$ as the number of samples increases then you have high bias. The model isn't able to capture patterns in the data.\n",
    "- If $J_\\textrm{CV}(\\theta) >> J_\\textrm{train}(\\theta)$ it's likely that your model is complex enough and overfitting your training data. Increasing the number of training samples will help improve your model's performance."
   ]
  },
  {
   "cell_type": "code",
   "execution_count": 41,
   "metadata": {},
   "outputs": [],
   "source": [
    "def get_shuffled_df(df):\n",
    "    m = len(turnstile_data)\n",
    "    df = turnstile_data.copy()\n",
    "    df = df.reindex(np.random.permutation(df.index))\n",
    "    return df\n",
    "\n",
    "np.random.seed(42)\n",
    "df = get_shuffled_df(turnstile_data)"
   ]
  },
  {
   "cell_type": "code",
   "execution_count": 42,
   "metadata": {},
   "outputs": [],
   "source": [
    "m = len(df)\n",
    "df_train = df[:int(0.6*m)]\n",
    "df_cv = df[int(0.6*m):]\n",
    "\n",
    "feature_names = ['rain', 'precipi', 'Hour', 'meantempi']\n",
    "value_name = 'ENTRIESn_hourly'\n",
    "\n",
    "dummy_units = pd.get_dummies(df_train['UNIT'], prefix='unit')\n",
    "features_train = df_train[feature_names].join(dummy_units)\n",
    "features_train, mu, sigma = normalize_features(features_train)\n",
    "features_train = np.array(features_train)\n",
    "features_train = np.insert(features_train, 0, 1, axis=1)\n",
    "values_train = df_train[value_name]\n",
    "\n",
    "dummy_units = pd.get_dummies(df_cv['UNIT'], prefix='unit')\n",
    "features_cv = df_cv[feature_names].join(dummy_units)\n",
    "features_cv = (features_cv - mu) / sigma\n",
    "features_cv = np.array(features_cv)\n",
    "features_cv = np.insert(features_cv, 0, 1, axis=1)\n",
    "values_cv = df_cv[value_name]"
   ]
  },
  {
   "cell_type": "code",
   "execution_count": 43,
   "metadata": {},
   "outputs": [],
   "source": [
    "def get_learning_curves(features_train, values_train, features_cv, values_cv,\n",
    "                        num_points=10, alpha=0.1, num_iterations=50):\n",
    "    cost_train = []\n",
    "    r_squared_train = []\n",
    "    cost_cv = []\n",
    "    r_squared_cv = []\n",
    "    m = len(features_train)\n",
    "    number_of_samples = np.array(np.linspace(m/num_points, m - 1, num_points), dtype=np.int)        \n",
    "    for i in number_of_samples:\n",
    "        features_train_subset = features_train[:i]\n",
    "        values_train_subset = values_train[:i]\n",
    "        theta = np.zeros(features_train_subset.shape[1])\n",
    "        theta, _ = gradient_descent(features_train_subset, values_train_subset, theta, alpha, num_iterations)\n",
    "        cost_train_subset = compute_cost(features_train_subset, values_train_subset, theta)\n",
    "        cost_train.append(cost_train_subset)\n",
    "        r_squared_train.append(compute_r_squared(values_train_subset, features_train_subset.dot(theta)))\n",
    "        cost_cv_subset = compute_cost(features_cv, values_cv, theta)\n",
    "        cost_cv.append(cost_cv_subset)\n",
    "        r_squared_cv.append(compute_r_squared(values_cv, features_cv.dot(theta)))\n",
    "    return pd.DataFrame({'Number of samples': number_of_samples,\n",
    "                          'Training error': cost_train,\n",
    "                          'Testing error': cost_cv,\n",
    "                          'R^2 training': r_squared_train,\n",
    "                          'R^2 testing': r_squared_cv})\n",
    "\n",
    "np.random.seed(42)\n",
    "costs = get_learning_curves(features_train, values_train, features_cv, values_cv)"
   ]
  },
  {
   "cell_type": "code",
   "execution_count": 44,
   "metadata": {},
   "outputs": [
    {
     "data": {
      "image/png": "[encoded data removed]",
      "text/plain": [
       "<Figure size 864x504 with 2 Axes>"
      ]
     },
     "metadata": {},
     "output_type": "display_data"
    }
   ],
   "source": [
    "fig, (ax1, ax2) = pylab.subplots(nrows=2, ncols=1, figsize=(12, 7))\n",
    "set1 = brewer2mpl.get_map('Set1', 'qualitative', 3).mpl_colors\n",
    "costs.plot(x=\"Number of samples\", y=['Training error', 'Testing error'],\n",
    "           ax=ax1, color=set1)\n",
    "ax1.set_title(\"Traditional learning curves\")\n",
    "ax1.legend()\n",
    "ax1.set_xlabel(\"Number of training samples\")\n",
    "ax1.set_ylabel(\"Value of cost function\")\n",
    "costs.plot(x=\"Number of samples\", y=[\"R^2 training\", \"R^2 testing\"],\n",
    "           ax=ax2, color=set1)\n",
    "ax2.set_title(\"Learning curves using R^2\")\n",
    "ax2.legend()\n",
    "ax2.set_xlabel(\"Number of training samples\")\n",
    "ax2.set_ylabel(\"R^2\")\n",
    "pass"
   ]
  },
  {
   "cell_type": "markdown",
   "metadata": {},
   "source": [
    "## 5. 为什么不试试xgboost呢"
   ]
  },
  {
   "cell_type": "code",
   "execution_count": 46,
   "metadata": {},
   "outputs": [
    {
     "data": {
      "text/plain": [
       "(79170,)"
      ]
     },
     "execution_count": 46,
     "metadata": {},
     "output_type": "execute_result"
    }
   ],
   "source": [
    "features_train.shape\n",
    "values_train.shape"
   ]
  },
  {
   "cell_type": "code",
   "execution_count": null,
   "metadata": {},
   "outputs": [],
   "source": [
    "from sklearn.model_selection import cross_val_score\n",
    "from xgboost import XGBRegressor\n",
    "\n",
    "params = [3,5,6,9]\n",
    "test_scores = []\n",
    "for param in params:\n",
    "    clf = XGBRegressor(max_depth=param)\n",
    "    test_score = np.sqrt(-cross_val_score(clf, features_train, values_train, cv=3, scoring='neg_mean_squared_error'))\n",
    "    test_scores.append(np.mean(test_score))"
   ]
  },
  {
   "cell_type": "code",
   "execution_count": null,
   "metadata": {},
   "outputs": [],
   "source": [
    "import matplotlib.pyplot as plt\n",
    "%matplotlib inline\n",
    "plt.plot(params, test_scores)\n",
    "plt.title(\"max_depth vs CV Error\");"
   ]
  },
  {
   "cell_type": "markdown",
   "metadata": {},
   "source": [
    "## 5. References\n",
    "\n",
    "\\[1\\] scipy.stats.mannwhiteyu (http://docs.scipy.org/doc/scipy/reference/generated/scipy.stats.mannwhitneyu.html#scipy.stats.mannwhitneyu)  \n",
    "\n",
    "\\[2\\] One tail vs Two tail p-values (http://graphpad.com/guides/prism/6/statistics/index.htm?one-tail_vs__two-tail_p_values.htm)  \n",
    "\n",
    "\\[3\\] How the Mann-Whitney Test Works (http://graphpad.com/guides/prism/6/statistics/index.htm?how_the_mann-whitney_test_works.htm)  \n",
    "\n",
    "\\[4\\] Are the model residuals well behaved? NIST Engineering Handbook. (http://www.itl.nist.gov/div898/handbook/pri/section2/pri24.htm)"
   ]
  },
  {
   "cell_type": "code",
   "execution_count": null,
   "metadata": {},
   "outputs": [],
   "source": [
    "%autosave 10\n",
    "\n",
    "from IPython.core.display import HTML\n",
    "def css_styling():\n",
    "    styles = open(\"styles/custom.css\", \"r\").read()\n",
    "    return HTML(styles)\n",
    "css_styling()"
   ]
  },
  {
   "cell_type": "code",
   "execution_count": null,
   "metadata": {},
   "outputs": [],
   "source": []
  }
 ],
 "metadata": {
  "kernelspec": {
   "display_name": "Python 3",
   "language": "python",
   "name": "python3"
  },
  "language_info": {
   "codemirror_mode": {
    "name": "ipython",
    "version": 3
   },
   "file_extension": ".py",
   "mimetype": "text/x-python",
   "name": "python",
   "nbconvert_exporter": "python",
   "pygments_lexer": "ipython3",
   "version": "3.6.5"
  }
 },
 "nbformat": 4,
 "nbformat_minor": 2
}
